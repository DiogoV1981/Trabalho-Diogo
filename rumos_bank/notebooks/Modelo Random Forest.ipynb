{
 "cells": [
  {
   "cell_type": "markdown",
   "metadata": {},
   "source": [
    "# Usar o mlflow para dar track à experiência deste notebook"
   ]
  },
  {
   "cell_type": "markdown",
   "metadata": {},
   "source": [
    "* Registar o modelo Random Forest\n",
    "    -   Modelo escolhido por apresentar custos mais baixos."
   ]
  },
  {
   "cell_type": "code",
   "execution_count": 2,
   "metadata": {},
   "outputs": [],
   "source": [
    "# importar as bibliotecas necessárias\n",
    "import mlflow\n",
    "import pandas as pd\n",
    "from sklearn.preprocessing import MinMaxScaler\n",
    "from sklearn.metrics import accuracy_score\n",
    "from sklearn.ensemble import RandomForestClassifier\n",
    "from sklearn.model_selection import train_test_split, GridSearchCV\n",
    "from pathlib import Path\n",
    "seed = 3"
   ]
  },
  {
   "cell_type": "code",
   "execution_count": 3,
   "metadata": {},
   "outputs": [],
   "source": [
    "root_path = '../data/'"
   ]
  },
  {
   "cell_type": "code",
   "execution_count": 4,
   "metadata": {},
   "outputs": [],
   "source": [
    "data_path = root_path + 'lending_data.csv'\n",
    "df = pd.read_csv(data_path)"
   ]
  },
  {
   "cell_type": "code",
   "execution_count": 5,
   "metadata": {},
   "outputs": [],
   "source": [
    "#df = pd.read_csv(root_path + 'lending_data.csv')"
   ]
  },
  {
   "cell_type": "code",
   "execution_count": 6,
   "metadata": {},
   "outputs": [
    {
     "data": {
      "text/html": [
       "<div>\n",
       "<style scoped>\n",
       "    .dataframe tbody tr th:only-of-type {\n",
       "        vertical-align: middle;\n",
       "    }\n",
       "\n",
       "    .dataframe tbody tr th {\n",
       "        vertical-align: top;\n",
       "    }\n",
       "\n",
       "    .dataframe thead th {\n",
       "        text-align: right;\n",
       "    }\n",
       "</style>\n",
       "<table border=\"1\" class=\"dataframe\">\n",
       "  <thead>\n",
       "    <tr style=\"text-align: right;\">\n",
       "      <th></th>\n",
       "      <th>ID</th>\n",
       "      <th>LIMIT_BAL</th>\n",
       "      <th>SEX</th>\n",
       "      <th>EDUCATION</th>\n",
       "      <th>MARRIAGE</th>\n",
       "      <th>AGE</th>\n",
       "      <th>PAY_0</th>\n",
       "      <th>PAY_2</th>\n",
       "      <th>PAY_3</th>\n",
       "      <th>PAY_4</th>\n",
       "      <th>...</th>\n",
       "      <th>BILL_AMT4</th>\n",
       "      <th>BILL_AMT5</th>\n",
       "      <th>BILL_AMT6</th>\n",
       "      <th>PAY_AMT1</th>\n",
       "      <th>PAY_AMT2</th>\n",
       "      <th>PAY_AMT3</th>\n",
       "      <th>PAY_AMT4</th>\n",
       "      <th>PAY_AMT5</th>\n",
       "      <th>PAY_AMT6</th>\n",
       "      <th>default.payment.next.month</th>\n",
       "    </tr>\n",
       "  </thead>\n",
       "  <tbody>\n",
       "    <tr>\n",
       "      <th>0</th>\n",
       "      <td>1</td>\n",
       "      <td>20000.0</td>\n",
       "      <td>2</td>\n",
       "      <td>2</td>\n",
       "      <td>1</td>\n",
       "      <td>24</td>\n",
       "      <td>2</td>\n",
       "      <td>2</td>\n",
       "      <td>-1</td>\n",
       "      <td>-1</td>\n",
       "      <td>...</td>\n",
       "      <td>0.0</td>\n",
       "      <td>0.0</td>\n",
       "      <td>0.0</td>\n",
       "      <td>0.0</td>\n",
       "      <td>689.0</td>\n",
       "      <td>0.0</td>\n",
       "      <td>0.0</td>\n",
       "      <td>0.0</td>\n",
       "      <td>0.0</td>\n",
       "      <td>1</td>\n",
       "    </tr>\n",
       "    <tr>\n",
       "      <th>1</th>\n",
       "      <td>2</td>\n",
       "      <td>120000.0</td>\n",
       "      <td>2</td>\n",
       "      <td>2</td>\n",
       "      <td>2</td>\n",
       "      <td>26</td>\n",
       "      <td>-1</td>\n",
       "      <td>2</td>\n",
       "      <td>0</td>\n",
       "      <td>0</td>\n",
       "      <td>...</td>\n",
       "      <td>3272.0</td>\n",
       "      <td>3455.0</td>\n",
       "      <td>3261.0</td>\n",
       "      <td>0.0</td>\n",
       "      <td>1000.0</td>\n",
       "      <td>1000.0</td>\n",
       "      <td>1000.0</td>\n",
       "      <td>0.0</td>\n",
       "      <td>2000.0</td>\n",
       "      <td>1</td>\n",
       "    </tr>\n",
       "  </tbody>\n",
       "</table>\n",
       "<p>2 rows × 25 columns</p>\n",
       "</div>"
      ],
      "text/plain": [
       "   ID  LIMIT_BAL  SEX  EDUCATION  MARRIAGE  AGE  PAY_0  PAY_2  PAY_3  PAY_4  \\\n",
       "0   1    20000.0    2          2         1   24      2      2     -1     -1   \n",
       "1   2   120000.0    2          2         2   26     -1      2      0      0   \n",
       "\n",
       "   ...  BILL_AMT4  BILL_AMT5  BILL_AMT6  PAY_AMT1  PAY_AMT2  PAY_AMT3  \\\n",
       "0  ...        0.0        0.0        0.0       0.0     689.0       0.0   \n",
       "1  ...     3272.0     3455.0     3261.0       0.0    1000.0    1000.0   \n",
       "\n",
       "   PAY_AMT4  PAY_AMT5  PAY_AMT6  default.payment.next.month  \n",
       "0       0.0       0.0       0.0                           1  \n",
       "1    1000.0       0.0    2000.0                           1  \n",
       "\n",
       "[2 rows x 25 columns]"
      ]
     },
     "execution_count": 6,
     "metadata": {},
     "output_type": "execute_result"
    }
   ],
   "source": [
    "df.head(2)"
   ]
  },
  {
   "cell_type": "code",
   "execution_count": 7,
   "metadata": {},
   "outputs": [],
   "source": [
    "df.columns = df.columns.str.strip().str.replace('\"', '')\n",
    "# Remover a coluna 'ID'\n",
    "df = df.drop('ID', axis=1)\n"
   ]
  },
  {
   "cell_type": "code",
   "execution_count": 8,
   "metadata": {},
   "outputs": [
    {
     "data": {
      "text/html": [
       "<div>\n",
       "<style scoped>\n",
       "    .dataframe tbody tr th:only-of-type {\n",
       "        vertical-align: middle;\n",
       "    }\n",
       "\n",
       "    .dataframe tbody tr th {\n",
       "        vertical-align: top;\n",
       "    }\n",
       "\n",
       "    .dataframe thead th {\n",
       "        text-align: right;\n",
       "    }\n",
       "</style>\n",
       "<table border=\"1\" class=\"dataframe\">\n",
       "  <thead>\n",
       "    <tr style=\"text-align: right;\">\n",
       "      <th></th>\n",
       "      <th>LIMIT_BAL</th>\n",
       "      <th>SEX</th>\n",
       "      <th>EDUCATION</th>\n",
       "      <th>MARRIAGE</th>\n",
       "      <th>AGE</th>\n",
       "      <th>PAY_0</th>\n",
       "      <th>PAY_2</th>\n",
       "      <th>PAY_3</th>\n",
       "      <th>PAY_4</th>\n",
       "      <th>PAY_5</th>\n",
       "      <th>...</th>\n",
       "      <th>BILL_AMT4</th>\n",
       "      <th>BILL_AMT5</th>\n",
       "      <th>BILL_AMT6</th>\n",
       "      <th>PAY_AMT1</th>\n",
       "      <th>PAY_AMT2</th>\n",
       "      <th>PAY_AMT3</th>\n",
       "      <th>PAY_AMT4</th>\n",
       "      <th>PAY_AMT5</th>\n",
       "      <th>PAY_AMT6</th>\n",
       "      <th>default.payment.next.month</th>\n",
       "    </tr>\n",
       "  </thead>\n",
       "  <tbody>\n",
       "    <tr>\n",
       "      <th>0</th>\n",
       "      <td>20000.0</td>\n",
       "      <td>2</td>\n",
       "      <td>2</td>\n",
       "      <td>1</td>\n",
       "      <td>24</td>\n",
       "      <td>2</td>\n",
       "      <td>2</td>\n",
       "      <td>-1</td>\n",
       "      <td>-1</td>\n",
       "      <td>-2</td>\n",
       "      <td>...</td>\n",
       "      <td>0.0</td>\n",
       "      <td>0.0</td>\n",
       "      <td>0.0</td>\n",
       "      <td>0.0</td>\n",
       "      <td>689.0</td>\n",
       "      <td>0.0</td>\n",
       "      <td>0.0</td>\n",
       "      <td>0.0</td>\n",
       "      <td>0.0</td>\n",
       "      <td>1</td>\n",
       "    </tr>\n",
       "  </tbody>\n",
       "</table>\n",
       "<p>1 rows × 24 columns</p>\n",
       "</div>"
      ],
      "text/plain": [
       "   LIMIT_BAL  SEX  EDUCATION  MARRIAGE  AGE  PAY_0  PAY_2  PAY_3  PAY_4  \\\n",
       "0    20000.0    2          2         1   24      2      2     -1     -1   \n",
       "\n",
       "   PAY_5  ...  BILL_AMT4  BILL_AMT5  BILL_AMT6  PAY_AMT1  PAY_AMT2  PAY_AMT3  \\\n",
       "0     -2  ...        0.0        0.0        0.0       0.0     689.0       0.0   \n",
       "\n",
       "   PAY_AMT4  PAY_AMT5  PAY_AMT6  default.payment.next.month  \n",
       "0       0.0       0.0       0.0                           1  \n",
       "\n",
       "[1 rows x 24 columns]"
      ]
     },
     "execution_count": 8,
     "metadata": {},
     "output_type": "execute_result"
    }
   ],
   "source": [
    "df.head(1)"
   ]
  },
  {
   "cell_type": "markdown",
   "metadata": {},
   "source": [
    "## Definir a diretoria onde as experiências são guardadas"
   ]
  },
  {
   "cell_type": "code",
   "execution_count": 9,
   "metadata": {},
   "outputs": [],
   "source": [
    "# Configuração\n",
    "#ROOT_PATH = '../../data/'\n",
    "#root_path = '../data/'\n",
    "TARGET_COL = \"default.payment.next.month\"\n",
    "URI = \"http://127.0.0.1:5000\""
   ]
  },
  {
   "cell_type": "markdown",
   "metadata": {},
   "source": [
    "## Definir a diretoria onde as experiências são guardadas"
   ]
  },
  {
   "cell_type": "code",
   "execution_count": 10,
   "metadata": {},
   "outputs": [
    {
     "name": "stderr",
     "output_type": "stream",
     "text": [
      "2025/03/14 17:50:44 INFO mlflow.tracking.fluent: Experiment with name 'Credit Card Default Prediction Experiment' does not exist. Creating a new experiment.\n"
     ]
    },
    {
     "data": {
      "text/plain": [
       "<Experiment: artifact_location='mlflow-artifacts:/870553150525548120', creation_time=1741974644509, experiment_id='870553150525548120', last_update_time=1741974644509, lifecycle_stage='active', name='Credit Card Default Prediction Experiment', tags={}>"
      ]
     },
     "execution_count": 10,
     "metadata": {},
     "output_type": "execute_result"
    }
   ],
   "source": [
    "Path(\"./mlruns\").mkdir(parents=True, exist_ok=True)\n",
    "mlflow.set_tracking_uri(URI)\n",
    "mlflow.set_experiment(\"Credit Card Default Prediction Experiment\")"
   ]
  },
  {
   "cell_type": "code",
   "execution_count": 11,
   "metadata": {},
   "outputs": [
    {
     "name": "stdout",
     "output_type": "stream",
     "text": [
      "Index(['LIMIT_BAL', 'SEX', 'EDUCATION', 'MARRIAGE', 'AGE', 'PAY_0', 'PAY_2',\n",
      "       'PAY_3', 'PAY_4', 'PAY_5', 'PAY_6', 'BILL_AMT1', 'BILL_AMT2',\n",
      "       'BILL_AMT3', 'BILL_AMT4', 'BILL_AMT5', 'BILL_AMT6', 'PAY_AMT1',\n",
      "       'PAY_AMT2', 'PAY_AMT3', 'PAY_AMT4', 'PAY_AMT5', 'PAY_AMT6',\n",
      "       'default.payment.next.month'],\n",
      "      dtype='object')\n"
     ]
    }
   ],
   "source": [
    "print(df.columns)"
   ]
  },
  {
   "cell_type": "markdown",
   "metadata": {},
   "source": [
    "## Criar os datasets"
   ]
  },
  {
   "cell_type": "code",
   "execution_count": 12,
   "metadata": {},
   "outputs": [],
   "source": [
    "#df = pd.read_csv(root_path + 'lending_data.csv')\n",
    "\n",
    "train_set, test_set = train_test_split(df, test_size = 0.2, random_state = seed)\n",
    "\n",
    "X_train = train_set.drop([TARGET_COL], axis = 'columns')\n",
    "y_train = train_set[TARGET_COL]\n",
    "\n",
    "X_test = test_set.drop([TARGET_COL], axis=1)\n",
    "y_test = test_set[TARGET_COL]"
   ]
  },
  {
   "cell_type": "markdown",
   "metadata": {},
   "source": [
    "## Escalando as features"
   ]
  },
  {
   "cell_type": "code",
   "execution_count": 13,
   "metadata": {},
   "outputs": [],
   "source": [
    "\n",
    "scaler = MinMaxScaler()\n",
    "features_names = X_train.columns\n",
    "\n",
    "X_train = scaler.fit_transform(X_train)\n",
    "X_train = pd.DataFrame(X_train, columns=features_names)\n",
    "\n",
    "X_test = scaler.transform(X_test)\n",
    "X_test = pd.DataFrame(X_test, columns=features_names)"
   ]
  },
  {
   "cell_type": "markdown",
   "metadata": {},
   "source": [
    "## Criar uma run"
   ]
  },
  {
   "cell_type": "code",
   "execution_count": 14,
   "metadata": {},
   "outputs": [
    {
     "data": {
      "text/plain": [
       "'7ef7a6ba1a334a46b06d66a0548ae849'"
      ]
     },
     "execution_count": 14,
     "metadata": {},
     "output_type": "execute_result"
    }
   ],
   "source": [
    "run = mlflow.start_run(run_name=\"RandomForest\")\n",
    "RUN_ID = run.info.run_uuid\n",
    "RUN_ID"
   ]
  },
  {
   "cell_type": "markdown",
   "metadata": {},
   "source": [
    "## Guardar datasets, modelos, artefactos, métricas e parametros da run"
   ]
  },
  {
   "cell_type": "code",
   "execution_count": 15,
   "metadata": {},
   "outputs": [
    {
     "name": "stderr",
     "output_type": "stream",
     "text": [
      "c:\\Users\\diogo\\miniconda3\\envs\\OML2\\Lib\\site-packages\\mlflow\\data\\dataset_source_registry.py:149: UserWarning: Failed to determine whether UCVolumeDatasetSource can resolve source information for '../data/lending_data.csv'. Exception: \n",
      "  return _dataset_source_registry.resolve(\n",
      "c:\\Users\\diogo\\miniconda3\\envs\\OML2\\Lib\\site-packages\\mlflow\\data\\dataset_source_registry.py:149: UserWarning: The specified dataset source can be interpreted in multiple ways: LocalArtifactDatasetSource, LocalArtifactDatasetSource. MLflow will assume that this is a LocalArtifactDatasetSource source.\n",
      "  return _dataset_source_registry.resolve(\n",
      "c:\\Users\\diogo\\miniconda3\\envs\\OML2\\Lib\\site-packages\\mlflow\\data\\dataset_source_registry.py:149: UserWarning: Failed to determine whether UCVolumeDatasetSource can resolve source information for '../data/lending_data.csv'. Exception: \n",
      "  return _dataset_source_registry.resolve(\n",
      "c:\\Users\\diogo\\miniconda3\\envs\\OML2\\Lib\\site-packages\\mlflow\\data\\dataset_source_registry.py:149: UserWarning: The specified dataset source can be interpreted in multiple ways: LocalArtifactDatasetSource, LocalArtifactDatasetSource. MLflow will assume that this is a LocalArtifactDatasetSource source.\n",
      "  return _dataset_source_registry.resolve(\n",
      "c:\\Users\\diogo\\miniconda3\\envs\\OML2\\Lib\\site-packages\\mlflow\\types\\utils.py:452: UserWarning: Hint: Inferred schema contains integer column(s). Integer columns in Python cannot represent missing values. If your input data contains missing values at inference time, it will be encoded as floats and will cause a schema enforcement error. The best way to avoid this problem is to infer the model schema based on a realistic data sample (training dataset) that includes missing values. Alternatively, you can declare integer columns as doubles (float64) whenever these columns may have missing values. See `Handling Integers With Missing Values <https://www.mlflow.org/docs/latest/models.html#handling-integers-with-missing-values>`_ for more details.\n",
      "  warnings.warn(\n"
     ]
    },
    {
     "data": {
      "text/plain": [
       "3"
      ]
     },
     "execution_count": 15,
     "metadata": {},
     "output_type": "execute_result"
    }
   ],
   "source": [
    "train_dataset = mlflow.data.from_pandas(train_set, source=data_path, targets=TARGET_COL, name=\"Credit Train Dataset\")\n",
    "test_dataset = mlflow.data.from_pandas(test_set, source=data_path, targets=TARGET_COL, name=\"Credit Test Dataset\")\n",
    "mlflow.log_input(train_dataset, context=\"train\")\n",
    "mlflow.log_input(test_dataset, context=\"test\")\n",
    "\n",
    "# Guardar a seed utilizada como parametro\n",
    "mlflow.log_param(\"seed\", seed)"
   ]
  },
  {
   "cell_type": "code",
   "execution_count": 16,
   "metadata": {},
   "outputs": [
    {
     "name": "stderr",
     "output_type": "stream",
     "text": [
      "2025/03/14 17:59:13 WARNING mlflow.models.model: Model logged without a signature and input example. Please set `input_example` parameter when logging the model to auto infer the model signature.\n",
      "Successfully registered model 'random_forest'.\n",
      "2025/03/14 17:59:19 INFO mlflow.store.model_registry.abstract_store: Waiting up to 300 seconds for model version to finish creation. Model name: random_forest, version 1\n",
      "Created version '1' of model 'random_forest'.\n"
     ]
    }
   ],
   "source": [
    "# Criar e treinar o modelo Random Forest\n",
    "rf = RandomForestClassifier(random_state=seed, class_weight='balanced')\n",
    "parameters = {'n_estimators': [10, 100, 300, 1000]}\n",
    "clf_rf = GridSearchCV(rf, parameters, cv=5).fit(X_train, y_train)\n",
    "    \n",
    "# Logar o modelo e registrar\n",
    "mlflow.sklearn.log_model(clf_rf, artifact_path=\"random_forest\", registered_model_name=\"random_forest\")\n",
    "   \n",
    "# Logar parametros do modelo\n",
    "params = clf_rf.best_params_\n",
    "mlflow.log_params(params)"
   ]
  },
  {
   "cell_type": "code",
   "execution_count": 17,
   "metadata": {},
   "outputs": [
    {
     "name": "stdout",
     "output_type": "stream",
     "text": [
      "Acurácia: 0.8256666666666667\n"
     ]
    }
   ],
   "source": [
    "# Fazer previsões e calcular a acurácia\n",
    "y_preds = clf_rf.predict(X_test)\n",
    "acc = accuracy_score(y_test, y_preds)\n",
    "mlflow.log_metric(\"accuracy\", acc)\n",
    "    \n",
    "print(\"Acurácia:\", acc)"
   ]
  },
  {
   "cell_type": "markdown",
   "metadata": {},
   "source": [
    "## Terminar a run"
   ]
  },
  {
   "cell_type": "code",
   "execution_count": 18,
   "metadata": {},
   "outputs": [
    {
     "name": "stdout",
     "output_type": "stream",
     "text": [
      "🏃 View run RandomForest at: http://127.0.0.1:5000/#/experiments/870553150525548120/runs/7ef7a6ba1a334a46b06d66a0548ae849\n",
      "🧪 View experiment at: http://127.0.0.1:5000/#/experiments/870553150525548120\n"
     ]
    }
   ],
   "source": [
    "mlflow.end_run()"
   ]
  },
  {
   "cell_type": "markdown",
   "metadata": {},
   "source": [
    "# Consultar uma run já concluída"
   ]
  },
  {
   "cell_type": "code",
   "execution_count": 19,
   "metadata": {},
   "outputs": [
    {
     "data": {
      "text/plain": [
       "<Run: data=<RunData: metrics={'accuracy': 0.8256666666666667}, params={'n_estimators': '300', 'seed': '3'}, tags={'mlflow.log-model.history': '[{\"run_id\": \"7ef7a6ba1a334a46b06d66a0548ae849\", '\n",
       "                             '\"artifact_path\": \"random_forest\", '\n",
       "                             '\"utc_time_created\": \"2025-03-14 '\n",
       "                             '17:58:55.709677\", \"model_uuid\": '\n",
       "                             '\"c6743ae27f1246c69cbae81f873b3fcc\", \"flavors\": '\n",
       "                             '{\"python_function\": {\"model_path\": \"model.pkl\", '\n",
       "                             '\"predict_fn\": \"predict\", \"loader_module\": '\n",
       "                             '\"mlflow.sklearn\", \"python_version\": \"3.12.9\", '\n",
       "                             '\"env\": {\"conda\": \"conda.yaml\", \"virtualenv\": '\n",
       "                             '\"python_env.yaml\"}}, \"sklearn\": '\n",
       "                             '{\"pickled_model\": \"model.pkl\", '\n",
       "                             '\"sklearn_version\": \"1.6.1\", '\n",
       "                             '\"serialization_format\": \"cloudpickle\", \"code\": '\n",
       "                             'null}}}]',\n",
       " 'mlflow.runName': 'RandomForest',\n",
       " 'mlflow.source.name': 'c:\\\\Users\\\\diogo\\\\miniconda3\\\\envs\\\\OML2\\\\Lib\\\\site-packages\\\\ipykernel_launcher.py',\n",
       " 'mlflow.source.type': 'LOCAL',\n",
       " 'mlflow.user': 'diogo'}>, info=<RunInfo: artifact_uri='mlflow-artifacts:/870553150525548120/7ef7a6ba1a334a46b06d66a0548ae849/artifacts', end_time=1741975160225, experiment_id='870553150525548120', lifecycle_stage='active', run_id='7ef7a6ba1a334a46b06d66a0548ae849', run_name='RandomForest', run_uuid='7ef7a6ba1a334a46b06d66a0548ae849', start_time=1741974645204, status='FINISHED', user_id='diogo'>, inputs=<RunInputs: dataset_inputs=[<DatasetInput: dataset=<Dataset: digest='d6b22f64', name='Credit Train Dataset', profile='{\"num_rows\": 24000, \"num_elements\": 576000}', schema=('{\"mlflow_colspec\": [{\"type\": \"double\", \"name\": \"LIMIT_BAL\", \"required\": '\n",
       " 'true}, {\"type\": \"long\", \"name\": \"SEX\", \"required\": true}, {\"type\": \"long\", '\n",
       " '\"name\": \"EDUCATION\", \"required\": true}, {\"type\": \"long\", \"name\": \"MARRIAGE\", '\n",
       " '\"required\": true}, {\"type\": \"long\", \"name\": \"AGE\", \"required\": true}, '\n",
       " '{\"type\": \"long\", \"name\": \"PAY_0\", \"required\": true}, {\"type\": \"long\", '\n",
       " '\"name\": \"PAY_2\", \"required\": true}, {\"type\": \"long\", \"name\": \"PAY_3\", '\n",
       " '\"required\": true}, {\"type\": \"long\", \"name\": \"PAY_4\", \"required\": true}, '\n",
       " '{\"type\": \"long\", \"name\": \"PAY_5\", \"required\": true}, {\"type\": \"long\", '\n",
       " '\"name\": \"PAY_6\", \"required\": true}, {\"type\": \"double\", \"name\": \"BILL_AMT1\", '\n",
       " '\"required\": true}, {\"type\": \"double\", \"name\": \"BILL_AMT2\", \"required\": '\n",
       " 'true}, {\"type\": \"double\", \"name\": \"BILL_AMT3\", \"required\": true}, {\"type\": '\n",
       " '\"double\", \"name\": \"BILL_AMT4\", \"required\": true}, {\"type\": \"double\", \"name\": '\n",
       " '\"BILL_AMT5\", \"required\": true}, {\"type\": \"double\", \"name\": \"BILL_AMT6\", '\n",
       " '\"required\": true}, {\"type\": \"double\", \"name\": \"PAY_AMT1\", \"required\": true}, '\n",
       " '{\"type\": \"double\", \"name\": \"PAY_AMT2\", \"required\": true}, {\"type\": \"double\", '\n",
       " '\"name\": \"PAY_AMT3\", \"required\": true}, {\"type\": \"double\", \"name\": '\n",
       " '\"PAY_AMT4\", \"required\": true}, {\"type\": \"double\", \"name\": \"PAY_AMT5\", '\n",
       " '\"required\": true}, {\"type\": \"double\", \"name\": \"PAY_AMT6\", \"required\": true}, '\n",
       " '{\"type\": \"long\", \"name\": \"default.payment.next.month\", \"required\": true}]}'), source='{\"uri\": \"../data/lending_data.csv\"}', source_type='local'>, tags=[<InputTag: key='mlflow.data.context', value='train'>]>,\n",
       " <DatasetInput: dataset=<Dataset: digest='49f07294', name='Credit Test Dataset', profile='{\"num_rows\": 6000, \"num_elements\": 144000}', schema=('{\"mlflow_colspec\": [{\"type\": \"double\", \"name\": \"LIMIT_BAL\", \"required\": '\n",
       " 'true}, {\"type\": \"long\", \"name\": \"SEX\", \"required\": true}, {\"type\": \"long\", '\n",
       " '\"name\": \"EDUCATION\", \"required\": true}, {\"type\": \"long\", \"name\": \"MARRIAGE\", '\n",
       " '\"required\": true}, {\"type\": \"long\", \"name\": \"AGE\", \"required\": true}, '\n",
       " '{\"type\": \"long\", \"name\": \"PAY_0\", \"required\": true}, {\"type\": \"long\", '\n",
       " '\"name\": \"PAY_2\", \"required\": true}, {\"type\": \"long\", \"name\": \"PAY_3\", '\n",
       " '\"required\": true}, {\"type\": \"long\", \"name\": \"PAY_4\", \"required\": true}, '\n",
       " '{\"type\": \"long\", \"name\": \"PAY_5\", \"required\": true}, {\"type\": \"long\", '\n",
       " '\"name\": \"PAY_6\", \"required\": true}, {\"type\": \"double\", \"name\": \"BILL_AMT1\", '\n",
       " '\"required\": true}, {\"type\": \"double\", \"name\": \"BILL_AMT2\", \"required\": '\n",
       " 'true}, {\"type\": \"double\", \"name\": \"BILL_AMT3\", \"required\": true}, {\"type\": '\n",
       " '\"double\", \"name\": \"BILL_AMT4\", \"required\": true}, {\"type\": \"double\", \"name\": '\n",
       " '\"BILL_AMT5\", \"required\": true}, {\"type\": \"double\", \"name\": \"BILL_AMT6\", '\n",
       " '\"required\": true}, {\"type\": \"double\", \"name\": \"PAY_AMT1\", \"required\": true}, '\n",
       " '{\"type\": \"double\", \"name\": \"PAY_AMT2\", \"required\": true}, {\"type\": \"double\", '\n",
       " '\"name\": \"PAY_AMT3\", \"required\": true}, {\"type\": \"double\", \"name\": '\n",
       " '\"PAY_AMT4\", \"required\": true}, {\"type\": \"double\", \"name\": \"PAY_AMT5\", '\n",
       " '\"required\": true}, {\"type\": \"double\", \"name\": \"PAY_AMT6\", \"required\": true}, '\n",
       " '{\"type\": \"long\", \"name\": \"default.payment.next.month\", \"required\": true}]}'), source='{\"uri\": \"../data/lending_data.csv\"}', source_type='local'>, tags=[<InputTag: key='mlflow.data.context', value='test'>]>]>>"
      ]
     },
     "execution_count": 19,
     "metadata": {},
     "output_type": "execute_result"
    }
   ],
   "source": [
    "mlflow.get_run(RUN_ID)"
   ]
  }
 ],
 "metadata": {
  "colab": {
   "collapsed_sections": [
    "tUhtD10ioTYV",
    "nfjkWZh4oTYj",
    "Aphz-nLGoTY1",
    "Kmv8FyejoTZI",
    "onKHTak6oTZY",
    "JEexZC_3oTZi",
    "zgk77FQFoTZy",
    "mVJKauqYoTZz",
    "eP5wGYdeoTZ5",
    "kO68aHLLoTZ5"
   ],
   "name": "final_exercice_solution.ipynb",
   "provenance": []
  },
  "kernelspec": {
   "display_name": "Python 3",
   "language": "python",
   "name": "python3"
  },
  "language_info": {
   "codemirror_mode": {
    "name": "ipython",
    "version": 3
   },
   "file_extension": ".py",
   "mimetype": "text/x-python",
   "name": "python",
   "nbconvert_exporter": "python",
   "pygments_lexer": "ipython3",
   "version": "3.12.9"
  }
 },
 "nbformat": 4,
 "nbformat_minor": 0
}
